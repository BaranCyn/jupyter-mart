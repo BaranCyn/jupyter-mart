{
 "cells": [
  {
   "cell_type": "code",
   "execution_count": null,
   "id": "2ddee652",
   "metadata": {},
   "outputs": [],
   "source": [
    "import pandas as pd\n",
    "\n",
    "# Örnek veri oluşturma\n",
    "data = {\n",
    "    'A': [1, 2, 3, 4, 5],\n",
    "    'B': [10, 20, 30, 40, 50],\n",
    "    'C': ['a', 'b', 'c', 'd', 'e']\n",
    "}\n",
    "df = pd.DataFrame(data)\n",
    "df\n",
    "#1 df.head(3)\n",
    "#2 df.tail(3)\n",
    "#3f.info()\n",
    "#4 df.describe()\n",
    "#5df.loc[0:2, ['A', 'C']]\n",
    "#6df.iloc[0:2, 0:2]\n",
    "#7df.groupby('C').sum()\n",
    "#8 df_with_nan = df.copy()\n",
    "df_with_nan.loc[2, 'B'] = None\n",
    "df_with_nan.fillna(0\n",
    "                   #9df.drop(columns=['B'])\n",
    "                   #10df['A'].apply(lambda x: x**2)"
   ]
  }
 ],
 "metadata": {
  "kernelspec": {
   "display_name": "Python 3 (ipykernel)",
   "language": "python",
   "name": "python3"
  },
  "language_info": {
   "codemirror_mode": {
    "name": "ipython",
    "version": 3
   },
   "file_extension": ".py",
   "mimetype": "text/x-python",
   "name": "python",
   "nbconvert_exporter": "python",
   "pygments_lexer": "ipython3",
   "version": "3.11.3"
  }
 },
 "nbformat": 4,
 "nbformat_minor": 5
}
